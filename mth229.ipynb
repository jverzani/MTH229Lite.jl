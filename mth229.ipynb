{
 "cells": [
  {
   "cell_type": "markdown",
   "id": "b0482195-e52b-4bef-b8a5-bce557368747",
   "metadata": {},
   "source": [
    "# \n",
    "\n",
    "# using `SimpleExpressions` in MTH229\n",
    "\n",
    "We use the `MTH229Lite` package, which loads the `SimpleExpessions`\n",
    "package:"
   ]
  },
  {
   "cell_type": "code",
   "execution_count": 1,
   "id": "e8090187",
   "metadata": {},
   "outputs": [],
   "source": [
    "using MTH229Lite  # loads `SimpleExpressions`"
   ]
  },
  {
   "cell_type": "markdown",
   "id": "eb85dc89-347a-46bd-9259-3dc9c8c3b507",
   "metadata": {},
   "source": [
    "We show how to use callable expressions instead of functions to perform\n",
    "the tasks of MTH229.\n",
    "\n",
    "## Defining expressions\n",
    "\n",
    "To define a function in `Julia` is easy:"
   ]
  },
  {
   "cell_type": "code",
   "execution_count": 2,
   "id": "bd935a32",
   "metadata": {},
   "outputs": [
    {
     "data": {
      "text/plain": [
       "f (generic function with 1 method)"
      ]
     },
     "execution_count": 2,
     "metadata": {},
     "output_type": "execute_result"
    }
   ],
   "source": [
    "f(x) = x * tanh(exp(x))"
   ]
  },
  {
   "cell_type": "markdown",
   "id": "ffb47926-9408-4ef9-bd72-e2dbd0b161a1",
   "metadata": {},
   "source": [
    "Functions prove to be useful as arguments to other functions, such as\n",
    "plotting, finding limits, finding zeros, integration, etc.\n",
    "\n",
    "Symbolic expressions can be used in place of functions with some\n",
    "convenience at the expense of not being idiomatic.[1]\n",
    "\n",
    "To define a symbolic expression in `Julia` requires first defining a\n",
    "symbolic variable. This is done with the `@symbolic` macro; we define at\n",
    "the same time a symbolic parameter.\n",
    "\n",
    "[1] `SymPy` could also satisfy most of the following, but this shows a\n",
    "lighter-weight version"
   ]
  },
  {
   "cell_type": "code",
   "execution_count": 3,
   "id": "c19344b2",
   "metadata": {},
   "outputs": [
    {
     "data": {
      "text/plain": [
       "(x, p)"
      ]
     },
     "execution_count": 3,
     "metadata": {},
     "output_type": "execute_result"
    }
   ],
   "source": [
    "@symbolic x p"
   ]
  },
  {
   "cell_type": "markdown",
   "id": "8c75cf65-0005-4cf9-9de3-d23ea0416999",
   "metadata": {},
   "source": [
    "Symbolic expressions are made using symbolic variables in expressions:"
   ]
  },
  {
   "cell_type": "code",
   "execution_count": 4,
   "id": "b0d89f8e",
   "metadata": {},
   "outputs": [
    {
     "data": {
      "text/plain": [
       "x * tanh(exp(x))"
      ]
     },
     "execution_count": 4,
     "metadata": {},
     "output_type": "execute_result"
    }
   ],
   "source": [
    "ex = x * tanh(exp(x))"
   ]
  },
  {
   "cell_type": "markdown",
   "id": "55266895-9005-4b2a-85db-412a7e322f22",
   "metadata": {},
   "source": [
    "These symbolic expressions are callable through the syntax `ex(a)` –\n",
    "just like a function. This evaluates the expression with the symbolic\n",
    "variable equal to `a`."
   ]
  },
  {
   "cell_type": "code",
   "execution_count": 5,
   "id": "b74669d0",
   "metadata": {},
   "outputs": [
    {
     "data": {
      "text/plain": [
       "(1.9999984724084583, 1.9999984724084583)"
      ]
     },
     "execution_count": 5,
     "metadata": {},
     "output_type": "execute_result"
    }
   ],
   "source": [
    "f(2), ex(2)"
   ]
  },
  {
   "cell_type": "markdown",
   "id": "f4c3e736-be0e-4d8d-ba9a-b9c12ff07121",
   "metadata": {},
   "source": [
    "If the expression also involved `p`, the parameter, the call would be\n",
    "`ex(a,b)` with `b` being passed as the value for `p`.\n",
    "\n",
    "When using expressions with parameters, to substitute in for the\n",
    "parameter (leaving a function of the variable alone) use the pattern\n",
    "`ex(:, b)`.\n",
    "\n",
    "Symbolic equations can be constructed using `~` to separate the left and\n",
    "right-hand sides:"
   ]
  },
  {
   "cell_type": "code",
   "execution_count": 6,
   "id": "bfd194a1",
   "metadata": {},
   "outputs": [
    {
     "data": {
      "text/plain": [
       "x * tanh(exp(x)) ~ 0"
      ]
     },
     "execution_count": 6,
     "metadata": {},
     "output_type": "execute_result"
    }
   ],
   "source": [
    "eq = x * tanh(exp(x)) ~ 0"
   ]
  },
  {
   "cell_type": "markdown",
   "id": "b7e12ffc-0425-4a43-8065-f3fb404c82aa",
   "metadata": {},
   "source": [
    "## Graphing\n",
    "\n",
    "As these expressions subtype `Function`, the plot recipe for functions\n",
    "can be directly used:"
   ]
  },
  {
   "cell_type": "code",
   "execution_count": 7,
   "id": "2b8f0aa5",
   "metadata": {},
   "outputs": [
    {
     "data": {
      "text/html": [
       "<iframe srcdoc=\"&lt;html&gt;&lt;head&gt;&lt;meta charset=&quot;utf-8&quot;&gt;&lt;meta name=&quot;viewport&quot; content=&quot;width=device-width, initial-scale=1&quot;&gt;&lt;meta name=&quot;description&quot; content=&quot;PlotlyLight.jl&quot;&gt;&lt;title&gt;PlotlyLight.jl&lt;/title&gt;&lt;style&gt;html, body { padding: 0px; margin: 0px; } /* remove scrollbar in iframe */&lt;/style&gt;&lt;/head&gt;&lt;body&gt;&lt;div class=&quot;plotlylight-parent-div&quot;&gt;&lt;script src=&quot;https://cdn.plot.ly/plotly-2.35.2.min.js&quot; charset=&quot;utf-8&quot;&gt;&lt;/script&gt;&lt;div style=&quot;height=120%;width:60%&quot; id=&quot;Xf0wR4Jbcm&quot; class=&quot;plotlylight-plot-div&quot;&gt;&lt;/div&gt;&lt;script&gt;Plotly.newPlot(&quot;Xf0wR4Jbcm&quot;, [{&quot;x&quot;:[-5.0,-4.923770317996679,-4.509188369978471,-4.281575985365679,-4.053751301301427,-3.824987878354284,-3.6127002141177824,-3.38285835782374,-3.116853974956621,-2.9156062595963514,-2.6723873557886058,-2.4188746328089867,-2.2162492573439603,-1.9680314803114538,-1.7161341558247574,-1.6040835990044102,-1.4920330421840633,-1.3893800325235888,-1.2867270228631142,-1.1481887372960573,-1.0096504517290006,-0.9048263666054565,-0.8000022814819123,-0.7453207039097226,-0.6906391263375329,-0.6359575487653433,-0.5812759711931536,-0.5170581484619727,-0.4528403257307918,-0.3886225029996109,-0.32440468026843,-0.271876636829762,-0.219348593391094,-0.166820549952426,-0.114292506513758,-0.05430525233816302,0.005682001837431963,0.06566925601302695,0.12565651018862192,0.18078936877187046,0.23592222735511897,0.2910550859383675,0.346187944521616,0.47987225119067733,0.6135565578597387,0.8336317549854986,1.0851855989763142,1.2811795922729798,1.5314400300371638,1.955870979003108,2.0],&quot;y&quot;:[-0.03368922516748496,-0.0358033654987773,-0.04963239262102696,-0.0591713094687051,-0.07035446577599336,-0.08344302229760195,-0.09744303591268044,-0.11480486230223896,-0.13797488844251543,-0.15778751621486184,-0.1843342890552981,-0.21476540668048089,-0.24065674610004328,-0.2732203932523981,-0.30521138314690144,-0.3182614248314562,-0.33003406938823965,-0.3392789614244975,-0.34659229868587477,-0.3524741247535905,-0.35240498757512556,-0.34735230188325444,-0.33707809222841634,-0.3293528229398145,-0.31983777558447074,-0.3084037675567709,-0.2949231790458156,-0.2763115195154495,-0.2545173108410696,-0.22936936781808892,-0.20072149540450251,-0.17460545327959248,-0.14602778018170984,-0.11496581451861648,-0.081419545925471,-0.040103715616156006,0.004340918019922443,0.05179063015078768,0.10207672722158395,0.15061442265941954,0.2011780836014314,0.25355323454372397,0.30750856508115365,0.4434127518200184,0.5837754645526543,0.8170940153098466,1.0793731990499382,1.279271375676313,1.531145580912822,1.9558681516409833,1.9999984724084583],&quot;z&quot;:null,&quot;type&quot;:&quot;scatter&quot;,&quot;mode&quot;:&quot;lines&quot;,&quot;showlegend&quot;:false,&quot;opacity&quot;:null}], {&quot;border&quot;:null}, {&quot;responsive&quot;:true})&lt;/script&gt;&lt;/div&gt;&lt;/body&gt;&lt;/html&gt;\" style=\"min-width:350px;height:100%;display:block;border:none;min-height:350px;width:100%\"></iframe>"
      ],
      "text/plain": [
       "Plot(Config[Config(:x => [-5.0, -4.923770317996679, -4.509188369978471, -4.281575985365679, -4.053751301301427, -3.824987878354284, -3.6127002141177824, -3.38285835782374, -3.116853974956621, -2.9156062595963514  …  0.2910550859383675, 0.346187944521616, 0.47987225119067733, 0.6135565578597387, 0.8336317549854986, 1.0851855989763142, 1.2811795922729798, 1.5314400300371638, 1.955870979003108, 2.0], :y => [-0.03368922516748496, -0.0358033654987773, -0.04963239262102696, -0.0591713094687051, -0.07035446577599336, -0.08344302229760195, -0.09744303591268044, -0.11480486230223896, -0.13797488844251543, -0.15778751621486184  …  0.25355323454372397, 0.30750856508115365, 0.4434127518200184, 0.5837754645526543, 0.8170940153098466, 1.0793731990499382, 1.279271375676313, 1.531145580912822, 1.9558681516409833, 1.9999984724084583], :z => nothing, :type => \"scatter\", :mode => :lines, :showlegend => false, :opacity => nothing)], Config(:border => nothing), Config(:responsive => true))"
      ]
     },
     "execution_count": 7,
     "metadata": {},
     "output_type": "execute_result"
    }
   ],
   "source": [
    "plot(x * tanh(exp(x)), -5, 2)"
   ]
  },
  {
   "cell_type": "markdown",
   "id": "acbac449-40f5-4f71-b3ab-9aec36a2536c",
   "metadata": {},
   "source": [
    "Plotting an equation with `Plots` plots *both* sides using separate\n",
    "traces:"
   ]
  },
  {
   "cell_type": "code",
   "execution_count": 8,
   "id": "ebf1ff80",
   "metadata": {},
   "outputs": [
    {
     "data": {
      "text/html": [
       "<iframe srcdoc=\"&lt;html&gt;&lt;head&gt;&lt;meta charset=&quot;utf-8&quot;&gt;&lt;meta name=&quot;viewport&quot; content=&quot;width=device-width, initial-scale=1&quot;&gt;&lt;meta name=&quot;description&quot; content=&quot;PlotlyLight.jl&quot;&gt;&lt;title&gt;PlotlyLight.jl&lt;/title&gt;&lt;style&gt;html, body { padding: 0px; margin: 0px; } /* remove scrollbar in iframe */&lt;/style&gt;&lt;/head&gt;&lt;body&gt;&lt;div class=&quot;plotlylight-parent-div&quot;&gt;&lt;script src=&quot;https://cdn.plot.ly/plotly-2.35.2.min.js&quot; charset=&quot;utf-8&quot;&gt;&lt;/script&gt;&lt;div style=&quot;height=120%;width:60%&quot; id=&quot;7zs8G57XpW&quot; class=&quot;plotlylight-plot-div&quot;&gt;&lt;/div&gt;&lt;script&gt;Plotly.newPlot(&quot;7zs8G57XpW&quot;, [{&quot;x&quot;:[-5.0,-4.923770317996679,-4.509188369978471,-4.281575985365679,-4.053751301301427,-3.824987878354284,-3.6127002141177824,-3.38285835782374,-3.116853974956621,-2.9156062595963514,-2.6723873557886058,-2.4188746328089867,-2.2162492573439603,-1.9680314803114538,-1.7161341558247574,-1.6040835990044102,-1.4920330421840633,-1.3893800325235888,-1.2867270228631142,-1.1481887372960573,-1.0096504517290006,-0.9048263666054565,-0.8000022814819123,-0.7453207039097226,-0.6906391263375329,-0.6359575487653433,-0.5812759711931536,-0.5170581484619727,-0.4528403257307918,-0.3886225029996109,-0.32440468026843,-0.271876636829762,-0.219348593391094,-0.166820549952426,-0.114292506513758,-0.05430525233816302,0.005682001837431963,0.06566925601302695,0.12565651018862192,0.18078936877187046,0.23592222735511897,0.2910550859383675,0.346187944521616,0.47987225119067733,0.6135565578597387,0.8336317549854986,1.0851855989763142,1.2811795922729798,1.5314400300371638,1.955870979003108,2.0],&quot;y&quot;:[-0.03368922516748496,-0.0358033654987773,-0.04963239262102696,-0.0591713094687051,-0.07035446577599336,-0.08344302229760195,-0.09744303591268044,-0.11480486230223896,-0.13797488844251543,-0.15778751621486184,-0.1843342890552981,-0.21476540668048089,-0.24065674610004328,-0.2732203932523981,-0.30521138314690144,-0.3182614248314562,-0.33003406938823965,-0.3392789614244975,-0.34659229868587477,-0.3524741247535905,-0.35240498757512556,-0.34735230188325444,-0.33707809222841634,-0.3293528229398145,-0.31983777558447074,-0.3084037675567709,-0.2949231790458156,-0.2763115195154495,-0.2545173108410696,-0.22936936781808892,-0.20072149540450251,-0.17460545327959248,-0.14602778018170984,-0.11496581451861648,-0.081419545925471,-0.040103715616156006,0.004340918019922443,0.05179063015078768,0.10207672722158395,0.15061442265941954,0.2011780836014314,0.25355323454372397,0.30750856508115365,0.4434127518200184,0.5837754645526543,0.8170940153098466,1.0793731990499382,1.279271375676313,1.531145580912822,1.9558681516409833,1.9999984724084583],&quot;z&quot;:null,&quot;type&quot;:&quot;scatter&quot;,&quot;mode&quot;:&quot;lines&quot;,&quot;showlegend&quot;:false,&quot;opacity&quot;:null},{&quot;x&quot;:[-5.0,-4.923770317996679,-4.509188369978471,-4.281575985365679,-4.053751301301427,-3.824987878354284,-3.6127002141177824,-3.38285835782374,-3.116853974956621,-2.9156062595963514,-2.6723873557886058,-2.4188746328089867,-2.2162492573439603,-1.9680314803114538,-1.7161341558247574,-1.4920330421840633,-1.2867270228631142,-1.0096504517290006,-0.8000022814819123,-0.5812759711931536,-0.32440468026843,-0.114292506513758,0.12565651018862192,0.346187944521616,0.6135565578597387,0.8336317549854986,1.0851855989763142,1.2811795922729798,1.5314400300371638,1.955870979003108,2.0],&quot;y&quot;:[0,0,0,0,0,0,0,0,0,0,0,0,0,0,0,0,0,0,0,0,0,0,0,0,0,0,0,0,0,0,0],&quot;z&quot;:null,&quot;type&quot;:&quot;scatter&quot;,&quot;mode&quot;:&quot;lines&quot;,&quot;showlegend&quot;:false,&quot;opacity&quot;:null}], {&quot;border&quot;:null}, {&quot;responsive&quot;:true})&lt;/script&gt;&lt;/div&gt;&lt;/body&gt;&lt;/html&gt;\" style=\"min-width:350px;height:100%;display:block;border:none;min-height:350px;width:100%\"></iframe>"
      ],
      "text/plain": [
       "Plot(Config[Config(:x => [-5.0, -4.923770317996679, -4.509188369978471, -4.281575985365679, -4.053751301301427, -3.824987878354284, -3.6127002141177824, -3.38285835782374, -3.116853974956621, -2.9156062595963514  …  0.2910550859383675, 0.346187944521616, 0.47987225119067733, 0.6135565578597387, 0.8336317549854986, 1.0851855989763142, 1.2811795922729798, 1.5314400300371638, 1.955870979003108, 2.0], :y => [-0.03368922516748496, -0.0358033654987773, -0.04963239262102696, -0.0591713094687051, -0.07035446577599336, -0.08344302229760195, -0.09744303591268044, -0.11480486230223896, -0.13797488844251543, -0.15778751621486184  …  0.25355323454372397, 0.30750856508115365, 0.4434127518200184, 0.5837754645526543, 0.8170940153098466, 1.0793731990499382, 1.279271375676313, 1.531145580912822, 1.9558681516409833, 1.9999984724084583], :z => nothing, :type => \"scatter\", :mode => :lines, :showlegend => false, :opacity => nothing), Config(:x => [-5.0, -4.923770317996679, -4.509188369978471, -4.281575985365679, -4.053751301301427, -3.824987878354284, -3.6127002141177824, -3.38285835782374, -3.116853974956621, -2.9156062595963514  …  -0.114292506513758, 0.12565651018862192, 0.346187944521616, 0.6135565578597387, 0.8336317549854986, 1.0851855989763142, 1.2811795922729798, 1.5314400300371638, 1.955870979003108, 2.0], :y => [0, 0, 0, 0, 0, 0, 0, 0, 0, 0  …  0, 0, 0, 0, 0, 0, 0, 0, 0, 0], :z => nothing, :type => \"scatter\", :mode => :lines, :showlegend => false, :opacity => nothing)], Config(:border => nothing), Config(:responsive => true))"
      ]
     },
     "execution_count": 8,
     "metadata": {},
     "output_type": "execute_result"
    }
   ],
   "source": [
    "plot(eq, -5, 2)"
   ]
  },
  {
   "cell_type": "markdown",
   "id": "da3272cf-bd78-4788-8ee6-a32d3a1a811f",
   "metadata": {},
   "source": [
    "## Limits\n",
    "\n",
    "The `lim` function of `MTH229Lite` allows a peek at numeric\n",
    "limits. With functions there is usually a two-step approach (define the\n",
    "function, pass the function object along):"
   ]
  },
  {
   "cell_type": "code",
   "execution_count": 9,
   "id": "15dd7d4a",
   "metadata": {},
   "outputs": [
    {
     "data": {
      "text/plain": [
       " 0.100000     1.0000041862090712\n",
       " 0.010000     \u001b[0m\u001b[1m1\u001b[22m\u001b[0m\u001b[1m.\u001b[22m\u001b[0m\u001b[1m0\u001b[22m\u001b[0m\u001b[1m0\u001b[22m\u001b[0m\u001b[1m0\u001b[22m\u001b[0m\u001b[1m0\u001b[22m\u001b[0m\u001b[1m0\u001b[22m0000416686\n",
       " 0.001000     \u001b[0m\u001b[1m1\u001b[22m\u001b[0m\u001b[1m.\u001b[22m\u001b[0m\u001b[1m0\u001b[22m\u001b[0m\u001b[1m0\u001b[22m\u001b[0m\u001b[1m0\u001b[22m\u001b[0m\u001b[1m0\u001b[22m\u001b[0m\u001b[1m0\u001b[22m\u001b[0m\u001b[1m0\u001b[22m\u001b[0m\u001b[1m0\u001b[22m\u001b[0m\u001b[1m0\u001b[22m\u001b[0m\u001b[1m0\u001b[22m0000417\n",
       " 0.000100     \u001b[0m\u001b[1m1\u001b[22m\u001b[0m\u001b[1m.\u001b[22m\u001b[0m\u001b[1m0\u001b[22m\n",
       " 0.000010     \u001b[0m\u001b[1m1\u001b[22m\u001b[0m\u001b[1m.\u001b[22m\u001b[0m\u001b[1m0\u001b[22m\n",
       " 0.000001     \u001b[0m\u001b[1m1\u001b[22m\u001b[0m\u001b[1m.\u001b[22m\u001b[0m\u001b[1m0\u001b[22m\n",
       "     ⋮              ⋮\n",
       "     c              L?\n",
       "     ⋮              ⋮\n",
       "-0.000001     \u001b[0m\u001b[1m1\u001b[22m\u001b[0m\u001b[1m.\u001b[22m\u001b[0m\u001b[1m0\u001b[22m\n",
       "-0.000010     \u001b[0m\u001b[1m1\u001b[22m\u001b[0m\u001b[1m.\u001b[22m\u001b[0m\u001b[1m0\u001b[22m\n",
       "-0.000100     \u001b[0m\u001b[1m1\u001b[22m\u001b[0m\u001b[1m.\u001b[22m\u001b[0m\u001b[1m0\u001b[22m\n",
       "-0.001000     \u001b[0m\u001b[1m1\u001b[22m\u001b[0m\u001b[1m.\u001b[22m\u001b[0m\u001b[1m0\u001b[22m\u001b[0m\u001b[1m0\u001b[22m\u001b[0m\u001b[1m0\u001b[22m\u001b[0m\u001b[1m0\u001b[22m\u001b[0m\u001b[1m0\u001b[22m\u001b[0m\u001b[1m0\u001b[22m\u001b[0m\u001b[1m0\u001b[22m\u001b[0m\u001b[1m0\u001b[22m\u001b[0m\u001b[1m0\u001b[22m0000417\n",
       "-0.010000     \u001b[0m\u001b[1m1\u001b[22m\u001b[0m\u001b[1m.\u001b[22m\u001b[0m\u001b[1m0\u001b[22m\u001b[0m\u001b[1m0\u001b[22m\u001b[0m\u001b[1m0\u001b[22m\u001b[0m\u001b[1m0\u001b[22m\u001b[0m\u001b[1m0\u001b[22m0000416686\n",
       "-0.100000     1.0000041862090712"
      ]
     },
     "execution_count": 9,
     "metadata": {},
     "output_type": "execute_result"
    }
   ],
   "source": [
    "f(x) = cos(x) / (1 - x^2/2)\n",
    "lim(f, 0)"
   ]
  },
  {
   "cell_type": "markdown",
   "id": "f20f75d5-64a7-4343-8e52-654d668c2108",
   "metadata": {},
   "source": [
    "Symbolic expressions can be directly entered:"
   ]
  },
  {
   "cell_type": "code",
   "execution_count": 10,
   "id": "44b7c3d2",
   "metadata": {},
   "outputs": [
    {
     "data": {
      "text/plain": [
       " 0.100000     1.0000041862090712\n",
       " 0.010000     \u001b[0m\u001b[1m1\u001b[22m\u001b[0m\u001b[1m.\u001b[22m\u001b[0m\u001b[1m0\u001b[22m\u001b[0m\u001b[1m0\u001b[22m\u001b[0m\u001b[1m0\u001b[22m\u001b[0m\u001b[1m0\u001b[22m\u001b[0m\u001b[1m0\u001b[22m0000416686\n",
       " 0.001000     \u001b[0m\u001b[1m1\u001b[22m\u001b[0m\u001b[1m.\u001b[22m\u001b[0m\u001b[1m0\u001b[22m\u001b[0m\u001b[1m0\u001b[22m\u001b[0m\u001b[1m0\u001b[22m\u001b[0m\u001b[1m0\u001b[22m\u001b[0m\u001b[1m0\u001b[22m\u001b[0m\u001b[1m0\u001b[22m\u001b[0m\u001b[1m0\u001b[22m\u001b[0m\u001b[1m0\u001b[22m\u001b[0m\u001b[1m0\u001b[22m0000417\n",
       " 0.000100     \u001b[0m\u001b[1m1\u001b[22m\u001b[0m\u001b[1m.\u001b[22m\u001b[0m\u001b[1m0\u001b[22m\n",
       " 0.000010     \u001b[0m\u001b[1m1\u001b[22m\u001b[0m\u001b[1m.\u001b[22m\u001b[0m\u001b[1m0\u001b[22m\n",
       " 0.000001     \u001b[0m\u001b[1m1\u001b[22m\u001b[0m\u001b[1m.\u001b[22m\u001b[0m\u001b[1m0\u001b[22m\n",
       "     ⋮              ⋮\n",
       "     c              L?\n",
       "     ⋮              ⋮\n",
       "-0.000001     \u001b[0m\u001b[1m1\u001b[22m\u001b[0m\u001b[1m.\u001b[22m\u001b[0m\u001b[1m0\u001b[22m\n",
       "-0.000010     \u001b[0m\u001b[1m1\u001b[22m\u001b[0m\u001b[1m.\u001b[22m\u001b[0m\u001b[1m0\u001b[22m\n",
       "-0.000100     \u001b[0m\u001b[1m1\u001b[22m\u001b[0m\u001b[1m.\u001b[22m\u001b[0m\u001b[1m0\u001b[22m\n",
       "-0.001000     \u001b[0m\u001b[1m1\u001b[22m\u001b[0m\u001b[1m.\u001b[22m\u001b[0m\u001b[1m0\u001b[22m\u001b[0m\u001b[1m0\u001b[22m\u001b[0m\u001b[1m0\u001b[22m\u001b[0m\u001b[1m0\u001b[22m\u001b[0m\u001b[1m0\u001b[22m\u001b[0m\u001b[1m0\u001b[22m\u001b[0m\u001b[1m0\u001b[22m\u001b[0m\u001b[1m0\u001b[22m\u001b[0m\u001b[1m0\u001b[22m0000417\n",
       "-0.010000     \u001b[0m\u001b[1m1\u001b[22m\u001b[0m\u001b[1m.\u001b[22m\u001b[0m\u001b[1m0\u001b[22m\u001b[0m\u001b[1m0\u001b[22m\u001b[0m\u001b[1m0\u001b[22m\u001b[0m\u001b[1m0\u001b[22m\u001b[0m\u001b[1m0\u001b[22m0000416686\n",
       "-0.100000     1.0000041862090712"
      ]
     },
     "execution_count": 10,
     "metadata": {},
     "output_type": "execute_result"
    }
   ],
   "source": [
    "lim(cos(x) / (1 - x^2/2), 0)"
   ]
  },
  {
   "cell_type": "markdown",
   "id": "738096e4-71e2-49bd-a00a-6399d7193767",
   "metadata": {},
   "source": [
    "Or, in a similar manner to a function, assigned to a variable and then\n",
    "used:"
   ]
  },
  {
   "cell_type": "code",
   "execution_count": 11,
   "id": "d7d45106",
   "metadata": {},
   "outputs": [
    {
     "data": {
      "text/plain": [
       " 0.100000     1.0000041862090712\n",
       " 0.010000     \u001b[0m\u001b[1m1\u001b[22m\u001b[0m\u001b[1m.\u001b[22m\u001b[0m\u001b[1m0\u001b[22m\u001b[0m\u001b[1m0\u001b[22m\u001b[0m\u001b[1m0\u001b[22m\u001b[0m\u001b[1m0\u001b[22m\u001b[0m\u001b[1m0\u001b[22m0000416686\n",
       " 0.001000     \u001b[0m\u001b[1m1\u001b[22m\u001b[0m\u001b[1m.\u001b[22m\u001b[0m\u001b[1m0\u001b[22m\u001b[0m\u001b[1m0\u001b[22m\u001b[0m\u001b[1m0\u001b[22m\u001b[0m\u001b[1m0\u001b[22m\u001b[0m\u001b[1m0\u001b[22m\u001b[0m\u001b[1m0\u001b[22m\u001b[0m\u001b[1m0\u001b[22m\u001b[0m\u001b[1m0\u001b[22m\u001b[0m\u001b[1m0\u001b[22m0000417\n",
       " 0.000100     \u001b[0m\u001b[1m1\u001b[22m\u001b[0m\u001b[1m.\u001b[22m\u001b[0m\u001b[1m0\u001b[22m\n",
       " 0.000010     \u001b[0m\u001b[1m1\u001b[22m\u001b[0m\u001b[1m.\u001b[22m\u001b[0m\u001b[1m0\u001b[22m\n",
       " 0.000001     \u001b[0m\u001b[1m1\u001b[22m\u001b[0m\u001b[1m.\u001b[22m\u001b[0m\u001b[1m0\u001b[22m\n",
       "     ⋮              ⋮\n",
       "     c              L?\n",
       "     ⋮              ⋮\n",
       "-0.000001     \u001b[0m\u001b[1m1\u001b[22m\u001b[0m\u001b[1m.\u001b[22m\u001b[0m\u001b[1m0\u001b[22m\n",
       "-0.000010     \u001b[0m\u001b[1m1\u001b[22m\u001b[0m\u001b[1m.\u001b[22m\u001b[0m\u001b[1m0\u001b[22m\n",
       "-0.000100     \u001b[0m\u001b[1m1\u001b[22m\u001b[0m\u001b[1m.\u001b[22m\u001b[0m\u001b[1m0\u001b[22m\n",
       "-0.001000     \u001b[0m\u001b[1m1\u001b[22m\u001b[0m\u001b[1m.\u001b[22m\u001b[0m\u001b[1m0\u001b[22m\u001b[0m\u001b[1m0\u001b[22m\u001b[0m\u001b[1m0\u001b[22m\u001b[0m\u001b[1m0\u001b[22m\u001b[0m\u001b[1m0\u001b[22m\u001b[0m\u001b[1m0\u001b[22m\u001b[0m\u001b[1m0\u001b[22m\u001b[0m\u001b[1m0\u001b[22m\u001b[0m\u001b[1m0\u001b[22m0000417\n",
       "-0.010000     \u001b[0m\u001b[1m1\u001b[22m\u001b[0m\u001b[1m.\u001b[22m\u001b[0m\u001b[1m0\u001b[22m\u001b[0m\u001b[1m0\u001b[22m\u001b[0m\u001b[1m0\u001b[22m\u001b[0m\u001b[1m0\u001b[22m\u001b[0m\u001b[1m0\u001b[22m0000416686\n",
       "-0.100000     1.0000041862090712"
      ]
     },
     "execution_count": 11,
     "metadata": {},
     "output_type": "execute_result"
    }
   ],
   "source": [
    "ex = cos(x) / (1 - x^2/2)\n",
    "lim(ex, 0)"
   ]
  },
  {
   "cell_type": "markdown",
   "id": "e34daf9a-76e3-4198-be58-a9d7daa2af18",
   "metadata": {},
   "source": [
    "## Zeros\n",
    "\n",
    "As symbolic expressions can be passed where functions are expected, we\n",
    "can directly use `find_zero` from `Roots`:"
   ]
  },
  {
   "cell_type": "code",
   "execution_count": 12,
   "id": "c7aaddfb",
   "metadata": {},
   "outputs": [
    {
     "data": {
      "text/plain": [
       "1.1673039782614187"
      ]
     },
     "execution_count": 12,
     "metadata": {},
     "output_type": "execute_result"
    }
   ],
   "source": [
    "find_zero(x^5 - x - 1, 1)"
   ]
  },
  {
   "cell_type": "markdown",
   "id": "6d6b2ec1-8531-4b57-a109-b1b44aeb88a3",
   "metadata": {},
   "source": [
    "More of interest is when an equation is used. To find when\n",
    "$f(x) = g(x)$, say $\\cos(x) = px$ for $p = 2$ we can set up an equation:"
   ]
  },
  {
   "cell_type": "code",
   "execution_count": 13,
   "id": "bd0ca9ae",
   "metadata": {},
   "outputs": [
    {
     "data": {
      "text/plain": [
       "0.45018361129487355"
      ]
     },
     "execution_count": 13,
     "metadata": {},
     "output_type": "execute_result"
    }
   ],
   "source": [
    "eq = cos(x) ~ p * x\n",
    "plot(eq(:, 2), 0, pi/2)  # one intersection\n",
    "find_zero(eq(:,2), (0, pi/2))"
   ]
  },
  {
   "cell_type": "markdown",
   "id": "65bfdbcd-646a-45ab-8cfd-134512eb7989",
   "metadata": {},
   "source": [
    "When a symbolic equation is called, the difference of the two sides is\n",
    "evaluated as though the function `h(x) = f(x) - g(x)` were used.\n",
    "\n",
    "There is a `solve` method for symbolic equations with a few similar\n",
    "interfaces:\n",
    "\n",
    "| interface               | action                                  |\n",
    "|:------------------------|:----------------------------------------|\n",
    "| `solve(eq, near)`       | solve for answer near the guess         |\n",
    "| `solve(eq, (be,tween))` | solve for answer between the two values |\n",
    "| `solve(eq, a, b)`       | solve for all answers over `[a,b]`      |\n",
    "| `solve(eq, x)`          | naive symbolic solve for variable `x`   |\n",
    "\n",
    "Let’s see these for the above equation with `p=1/10`.\n",
    "\n",
    "From a graph, we can readily identify that the lone answer is *between*\n",
    "$0$ and $\\pi/2$ and *near* $1.4$"
   ]
  },
  {
   "cell_type": "code",
   "execution_count": 14,
   "id": "22187de9",
   "metadata": {},
   "outputs": [
    {
     "data": {
      "text/plain": [
       "cos(x) ~ 0.1 * x"
      ]
     },
     "execution_count": 14,
     "metadata": {},
     "output_type": "execute_result"
    }
   ],
   "source": [
    "u = eq(:,1/10)"
   ]
  },
  {
   "cell_type": "code",
   "execution_count": 15,
   "id": "25aff50b",
   "metadata": {},
   "outputs": [
    {
     "data": {
      "text/plain": [
       "1.4275517787645942"
      ]
     },
     "execution_count": 15,
     "metadata": {},
     "output_type": "execute_result"
    }
   ],
   "source": [
    "solve(u, 1.4)        # near"
   ]
  },
  {
   "cell_type": "code",
   "execution_count": 16,
   "id": "33043197",
   "metadata": {},
   "outputs": [
    {
     "data": {
      "text/plain": [
       "1.4275517787645942"
      ]
     },
     "execution_count": 16,
     "metadata": {},
     "output_type": "execute_result"
    }
   ],
   "source": [
    "solve(u, (0, pi/2))  # between"
   ]
  },
  {
   "cell_type": "code",
   "execution_count": 17,
   "id": "c40b73d9",
   "metadata": {},
   "outputs": [
    {
     "data": {
      "text/plain": [
       "1-element Vector{Float64}:\n",
       " 1.427551778764594"
      ]
     },
     "execution_count": 17,
     "metadata": {},
     "output_type": "execute_result"
    }
   ],
   "source": [
    "solve(u, 0, pi/2)    # all answers between 0 and pi/2"
   ]
  },
  {
   "cell_type": "code",
   "execution_count": 18,
   "id": "395c1cee",
   "metadata": {},
   "outputs": [
    {
     "data": {
      "text/plain": [
       "cos(x) / x ~ 0.1"
      ]
     },
     "execution_count": 18,
     "metadata": {},
     "output_type": "execute_result"
    }
   ],
   "source": [
    "solve(u, x)          # symbolic solution(?)"
   ]
  },
  {
   "cell_type": "markdown",
   "id": "e06482c8-9efd-4198-a2d5-a48e4955a3f5",
   "metadata": {},
   "source": [
    "The symbolic solve call mostly just isolates the variable on the left and\n",
    "placing other terms on the right, which for many simple enough equations leaves\n",
    "an answer, but not here, as there is no ready inverse for the function\n",
    "$g(x) = \\cos(x)/x$.\n",
    "\n",
    "## Derivatives\n",
    "\n",
    "Derivatives can be taken. To use the familiar prime notation requires a\n",
    "definition (which is already part of `MTH229Lite`)"
   ]
  },
  {
   "cell_type": "code",
   "execution_count": 19,
   "id": "6bdbca89",
   "metadata": {},
   "outputs": [],
   "source": [
    "import SimpleExpressions: AbstractSymbolic, D\n",
    "Base.adjoint(ex::AbstractSymbolic) = D(ex)"
   ]
  },
  {
   "cell_type": "markdown",
   "id": "e6d14be3-b374-4a56-83c3-962c75084bc9",
   "metadata": {},
   "source": [
    "Now we can differentiate:"
   ]
  },
  {
   "cell_type": "code",
   "execution_count": 20,
   "id": "dcce54a1",
   "metadata": {},
   "outputs": [
    {
     "data": {
      "text/html": [
       "<iframe srcdoc=\"&lt;html&gt;&lt;head&gt;&lt;meta charset=&quot;utf-8&quot;&gt;&lt;meta name=&quot;viewport&quot; content=&quot;width=device-width, initial-scale=1&quot;&gt;&lt;meta name=&quot;description&quot; content=&quot;PlotlyLight.jl&quot;&gt;&lt;title&gt;PlotlyLight.jl&lt;/title&gt;&lt;style&gt;html, body { padding: 0px; margin: 0px; } /* remove scrollbar in iframe */&lt;/style&gt;&lt;/head&gt;&lt;body&gt;&lt;div class=&quot;plotlylight-parent-div&quot;&gt;&lt;script src=&quot;https://cdn.plot.ly/plotly-2.35.2.min.js&quot; charset=&quot;utf-8&quot;&gt;&lt;/script&gt;&lt;div style=&quot;height=120%;width:60%&quot; id=&quot;lVsld5ajUG&quot; class=&quot;plotlylight-plot-div&quot;&gt;&lt;/div&gt;&lt;script&gt;Plotly.newPlot(&quot;lVsld5ajUG&quot;, [{&quot;x&quot;:[-5.0,-4.923770317996679,-4.509188369978471,-4.281575985365679,-4.053751301301427,-3.824987878354284,-3.6127002141177824,-3.38285835782374,-3.116853974956621,-2.9156062595963514,-2.6723873557886058,-2.4188746328089867,-2.2162492573439603,-2.092140368827707,-1.9680314803114538,-1.9050571491897799,-1.8420828180681057,-1.7791084869464315,-1.7161341558247574,-1.6601088774145838,-1.6040835990044102,-1.5480583205942366,-1.4920330421840633,-1.440706537353826,-1.3893800325235888,-1.3380535276933516,-1.2867270228631142,-1.2174578800795857,-1.1481887372960573,-1.078919594512529,-1.0096504517290006,-0.9572384091672286,-0.9048263666054565,-0.8524143240436843,-0.8000022814819123,-0.7453207039097226,-0.6906391263375329,-0.6359575487653433,-0.5812759711931536,-0.5170581484619727,-0.4528403257307918,-0.3886225029996109,-0.32440468026843,-0.219348593391094,-0.114292506513758,-0.05430525233816302,0.005682001837431963,0.035675628925229456,0.06566925601302695,0.09566288310082444,0.12565651018862192,0.15322293948024618,0.18078936877187046,0.20835579806349472,0.23592222735511897,0.26348865664674326,0.2910550859383675,0.3186215152299917,0.346187944521616,0.3796090211888813,0.41303009785614664,0.446451174523412,0.47987225119067733,0.5132933278579427,0.546714404525208,0.5801354811924734,0.6135565578597387,0.6685753571411788,0.7235941564226187,0.7786129557040586,0.8336317549854986,0.9594086769809064,1.0851855989763142,1.183182595624647,1.2811795922729798,1.4063098111550718,1.5314400300371638,1.7436555045201358,1.955870979003108,1.977935489501554,2.0],&quot;y&quot;:[-0.026950360496619783,-0.028530568960167063,-0.038621437846514096,-0.04534379151931999,-0.052984939645116136,-0.06160130746858104,-0.07042341274932978,-0.0807794561016337,-0.09352721018276275,-0.1033609990297461,-0.11477165389727474,-0.12484760585874162,-0.13017310317045494,-0.1315239395347415,-0.13086684651650138,-0.12958744565540833,-0.12756086372881817,-0.12469412423443338,-0.12088601300058183,-0.11661813177031685,-0.11143521302159332,-0.10524847282154587,-0.09796354080191488,-0.09024061424332741,-0.08143166761811246,-0.07145274782891836,-0.06021694970684521,-0.0429022822966616,-0.02291181917970131,-2.0985520433058902e-5,0.025989621673981167,0.04787051001429787,0.07173742828961605,0.0976613433632455,0.12569957715532692,0.15724848914252393,0.1911623800468289,0.2274305574959517,0.2660055799253237,0.31412889695187163,0.36507605825169304,0.4185128549587789,0.4739941487923157,0.567655971066251,0.6621673237011138,0.715102678724986,0.766355997865344,0.7911139424323649,0.8151677254271719,0.8384266690517423,0.8608039280903497,0.8805224365073433,0.8993679289628166,0.917286442983845,0.9342297658805783,0.9501560550796192,0.9650303901148752,0.9788252431906823,0.9915208564824273,1.0054223863179388,1.0176867413124708,1.028327027566501,1.037373843635962,1.0448745982132492,1.050892460301633,1.0555049691937926,1.0588023433475715,1.0616370253081906,1.0616813380777887,1.0594675141157563,1.0555352856380364,1.042813747049963,1.028960996527519,1.0195737817500339,1.012242880420131,1.0059765229278959,1.002531024148776,1.0004089353439907,1.000038533714279,1.0000290954215796,1.0000218111148027],&quot;z&quot;:null,&quot;type&quot;:&quot;scatter&quot;,&quot;mode&quot;:&quot;lines&quot;,&quot;showlegend&quot;:false,&quot;opacity&quot;:null}], {&quot;border&quot;:null}, {&quot;responsive&quot;:true})&lt;/script&gt;&lt;/div&gt;&lt;/body&gt;&lt;/html&gt;\" style=\"min-width:350px;height:100%;display:block;border:none;min-height:350px;width:100%\"></iframe>"
      ],
      "text/plain": [
       "Plot(Config[Config(:x => [-5.0, -4.923770317996679, -4.509188369978471, -4.281575985365679, -4.053751301301427, -3.824987878354284, -3.6127002141177824, -3.38285835782374, -3.116853974956621, -2.9156062595963514  …  0.9594086769809064, 1.0851855989763142, 1.183182595624647, 1.2811795922729798, 1.4063098111550718, 1.5314400300371638, 1.7436555045201358, 1.955870979003108, 1.977935489501554, 2.0], :y => [-0.026950360496619783, -0.028530568960167063, -0.038621437846514096, -0.04534379151931999, -0.052984939645116136, -0.06160130746858104, -0.07042341274932978, -0.0807794561016337, -0.09352721018276275, -0.1033609990297461  …  1.042813747049963, 1.028960996527519, 1.0195737817500339, 1.012242880420131, 1.0059765229278959, 1.002531024148776, 1.0004089353439907, 1.000038533714279, 1.0000290954215796, 1.0000218111148027], :z => nothing, :type => \"scatter\", :mode => :lines, :showlegend => false, :opacity => nothing)], Config(:border => nothing), Config(:responsive => true))"
      ]
     },
     "execution_count": 20,
     "metadata": {},
     "output_type": "execute_result"
    }
   ],
   "source": [
    "ex = x * tanh(exp(x))\n",
    "plot(ex', -5, 2)"
   ]
  },
  {
   "cell_type": "markdown",
   "id": "031fe543-5c0f-44cb-bffa-af95d9d37058",
   "metadata": {},
   "source": [
    "By default, the derivative searches for a symbolic variable. This can be\n",
    "specified directly; this allows, for example, derivatives over the\n",
    "parameter:"
   ]
  },
  {
   "cell_type": "code",
   "execution_count": 21,
   "id": "6682f146",
   "metadata": {},
   "outputs": [
    {
     "data": {
      "text/plain": [
       "-1 * 2 * p"
      ]
     },
     "execution_count": 21,
     "metadata": {},
     "output_type": "execute_result"
    }
   ],
   "source": [
    "ex = x^2 - p^2\n",
    "D(ex, p)"
   ]
  },
  {
   "cell_type": "markdown",
   "id": "c22edf3f-ef52-4d5e-958c-86a0c5831165",
   "metadata": {},
   "source": [
    "## Newton’s method\n",
    "\n",
    "Newton’s method uses the function and its derivative to update a guess\n",
    "to a better guess (usually) through this formula\n",
    "\n",
    "$$\n",
    "x_{n+1} = x_n - f(x_n)/f'(x_n)\n",
    "$$\n",
    "\n",
    "Here we take 4 steps of Newton’s method to find a zero of a polynomial\n",
    "starting at $1$:"
   ]
  },
  {
   "cell_type": "code",
   "execution_count": 22,
   "id": "4c85b22c",
   "metadata": {},
   "outputs": [
    {
     "data": {
      "text/plain": [
       "(1.1673040828230083, 8.661229708994966e-7)"
      ]
     },
     "execution_count": 22,
     "metadata": {},
     "output_type": "execute_result"
    }
   ],
   "source": [
    "ex = x^5 - x - 1\n",
    "xi = 1.0\n",
    "xi = xi - ex(xi) / ex'(xi)\n",
    "xi = xi - ex(xi) / ex'(xi)\n",
    "xi = xi - ex(xi) / ex'(xi)\n",
    "xi = xi - ex(xi) / ex'(xi)\n",
    "\n",
    "xi, ex(xi)"
   ]
  },
  {
   "cell_type": "markdown",
   "id": "66dcd54d-6b0d-4566-8ec9-4415ffb02085",
   "metadata": {},
   "source": [
    "However, this can be done through `Roots` with:"
   ]
  },
  {
   "cell_type": "code",
   "execution_count": 23,
   "id": "5db2d105",
   "metadata": {},
   "outputs": [
    {
     "data": {
      "text/plain": [
       "Results of univariate zero finding:\n",
       "\n",
       "* Converged to: 1.1673039782614187\n",
       "* Algorithm: Roots.Newton()\n",
       "* iterations: 6\n",
       "* function evaluations ≈ 12\n",
       "* stopped as |f(x_n)| ≤ max(δ, |x|⋅ϵ) using δ = atol, ϵ = rtol\n",
       "\n",
       "Trace:\n",
       "x₁ = 1,\t fx₁ = -1\n",
       "x₂ = 1.25,\t fx₂ = 0.8017578125\n",
       "x₃ = 1.1784593935169048,\t fx₃ = 0.094402841314675578\n",
       "x₄ = 1.1675373893961101,\t fx₄ = 0.0019342985483803421\n",
       "x₅ = 1.1673040828230083,\t fx₅ = 8.6612297089949664e-07\n",
       "x₆ = 1.1673039782614396,\t fx₆ = 1.7341683644644945e-13\n",
       "x₇ = 1.1673039782614187,\t fx₇ = 6.6613381477509392e-16\n",
       "\n"
      ]
     },
     "metadata": {},
     "output_type": "display_data"
    },
    {
     "data": {
      "text/plain": [
       "1.1673039782614187"
      ]
     },
     "execution_count": 23,
     "metadata": {},
     "output_type": "execute_result"
    }
   ],
   "source": [
    "find_zero((ex, ex'), 1.0, Roots.Newton(); verbose=true)"
   ]
  },
  {
   "cell_type": "markdown",
   "id": "0cb0b0a4-478e-41fd-9265-5e1108604a3d",
   "metadata": {},
   "source": [
    "## First and second derivatives\n",
    "\n",
    "We can find critical points and candidates for inflection points easily\n",
    "enough:"
   ]
  },
  {
   "cell_type": "code",
   "execution_count": 24,
   "id": "e4b903ce",
   "metadata": {},
   "outputs": [
    {
     "data": {
      "text/html": [
       "<iframe srcdoc=\"&lt;html&gt;&lt;head&gt;&lt;meta charset=&quot;utf-8&quot;&gt;&lt;meta name=&quot;viewport&quot; content=&quot;width=device-width, initial-scale=1&quot;&gt;&lt;meta name=&quot;description&quot; content=&quot;PlotlyLight.jl&quot;&gt;&lt;title&gt;PlotlyLight.jl&lt;/title&gt;&lt;style&gt;html, body { padding: 0px; margin: 0px; } /* remove scrollbar in iframe */&lt;/style&gt;&lt;/head&gt;&lt;body&gt;&lt;div class=&quot;plotlylight-parent-div&quot;&gt;&lt;script src=&quot;https://cdn.plot.ly/plotly-2.35.2.min.js&quot; charset=&quot;utf-8&quot;&gt;&lt;/script&gt;&lt;div style=&quot;height=120%;width:60%&quot; id=&quot;EjUw0LNXgY&quot; class=&quot;plotlylight-plot-div&quot;&gt;&lt;/div&gt;&lt;script&gt;Plotly.newPlot(&quot;EjUw0LNXgY&quot;, [{&quot;x&quot;:[-5.0,-4.923770317996679,-4.509188369978471,-4.281575985365679,-4.053751301301427,-3.824987878354284,-3.6127002141177824,-3.38285835782374,-3.116853974956621,-2.9156062595963514,-2.6723873557886058,-2.4188746328089867,-2.2162492573439603,-1.9680314803114538,-1.7161341558247574,-1.6040835990044102,-1.4920330421840633,-1.3893800325235888,-1.2867270228631142,-1.1481887372960573,-1.0096504517290006,-0.9048263666054565,-0.8000022814819123,-0.7453207039097226,-0.6906391263375329,-0.6359575487653433,-0.5812759711931536,-0.5170581484619727,-0.4528403257307918,-0.3886225029996109,-0.32440468026843,-0.271876636829762,-0.219348593391094,-0.166820549952426,-0.114292506513758,-0.05430525233816302,0.005682001837431963,0.06566925601302695,0.12565651018862192,0.18078936877187046,0.23592222735511897,0.2910550859383675,0.346187944521616,0.47987225119067733,0.6135565578597387,0.8336317549854986,1.0851855989763142,1.2811795922729798,1.5314400300371638,1.955870979003108,2.0],&quot;y&quot;:[-0.03368922516748496,-0.0358033654987773,-0.04963239262102696,-0.0591713094687051,-0.07035446577599336,-0.08344302229760195,-0.09744303591268044,-0.11480486230223896,-0.13797488844251543,-0.15778751621486184,-0.1843342890552981,-0.21476540668048089,-0.24065674610004328,-0.2732203932523981,-0.30521138314690144,-0.3182614248314562,-0.33003406938823965,-0.3392789614244975,-0.34659229868587477,-0.3524741247535905,-0.35240498757512556,-0.34735230188325444,-0.33707809222841634,-0.3293528229398145,-0.31983777558447074,-0.3084037675567709,-0.2949231790458156,-0.2763115195154495,-0.2545173108410696,-0.22936936781808892,-0.20072149540450251,-0.17460545327959248,-0.14602778018170984,-0.11496581451861648,-0.081419545925471,-0.040103715616156006,0.004340918019922443,0.05179063015078768,0.10207672722158395,0.15061442265941954,0.2011780836014314,0.25355323454372397,0.30750856508115365,0.4434127518200184,0.5837754645526543,0.8170940153098466,1.0793731990499382,1.279271375676313,1.531145580912822,1.9558681516409833,1.9999984724084583],&quot;z&quot;:null,&quot;type&quot;:&quot;scatter&quot;,&quot;mode&quot;:&quot;lines&quot;,&quot;showlegend&quot;:false,&quot;opacity&quot;:null},{&quot;x&quot;:[-5.0,-4.923770317996679,-4.509188369978471,-4.281575985365679,-4.053751301301427,-3.824987878354284,-3.6127002141177824,-3.38285835782374,-3.116853974956621,-2.9156062595963514,-2.6723873557886058,-2.4188746328089867,-2.2162492573439603,-1.9680314803114538,-1.7161341558247574,-1.4920330421840633,-1.2867270228631142,-1.0096504517290006,-0.8000022814819123,-0.5812759711931536,-0.32440468026843,-0.114292506513758,0.12565651018862192,0.346187944521616,0.6135565578597387,0.8336317549854986,1.0851855989763142,1.2811795922729798,1.5314400300371638,1.955870979003108,2.0],&quot;y&quot;:[0,0,0,0,0,0,0,0,0,0,0,0,0,0,0,0,0,0,0,0,0,0,0,0,0,0,0,0,0,0,0],&quot;z&quot;:null,&quot;type&quot;:&quot;scatter&quot;,&quot;mode&quot;:&quot;lines&quot;,&quot;showlegend&quot;:false,&quot;opacity&quot;:null},{&quot;x&quot;:[0.0],&quot;y&quot;:[0.0],&quot;z&quot;:null,&quot;type&quot;:&quot;scatter&quot;,&quot;mode&quot;:&quot;markers&quot;,&quot;showlegend&quot;:false,&quot;opacity&quot;:null,&quot;marker&quot;:{&quot;size&quot;:10,&quot;color&quot;:&quot;black&quot;}},{&quot;x&quot;:[-1.0788600584646237],&quot;y&quot;:[-0.35328577784821125],&quot;z&quot;:null,&quot;type&quot;:&quot;scatter&quot;,&quot;mode&quot;:&quot;markers&quot;,&quot;showlegend&quot;:false,&quot;opacity&quot;:null,&quot;marker&quot;:{&quot;size&quot;:10,&quot;color&quot;:&quot;blue&quot;}},{&quot;x&quot;:[-2.06597189615675,0.6965639603951723],&quot;y&quot;:[-0.26035694402340986,0.6718415293703132],&quot;z&quot;:null,&quot;type&quot;:&quot;scatter&quot;,&quot;mode&quot;:&quot;markers&quot;,&quot;showlegend&quot;:false,&quot;opacity&quot;:null,&quot;marker&quot;:{&quot;size&quot;:10,&quot;color&quot;:&quot;red&quot;}}], {&quot;showlegend&quot;:false,&quot;border&quot;:null}, {&quot;responsive&quot;:true})&lt;/script&gt;&lt;/div&gt;&lt;/body&gt;&lt;/html&gt;\" style=\"min-width:350px;height:100%;display:block;border:none;min-height:350px;width:100%\"></iframe>"
      ],
      "text/plain": [
       "Plot(Config[Config(:x => [-5.0, -4.923770317996679, -4.509188369978471, -4.281575985365679, -4.053751301301427, -3.824987878354284, -3.6127002141177824, -3.38285835782374, -3.116853974956621, -2.9156062595963514  …  0.2910550859383675, 0.346187944521616, 0.47987225119067733, 0.6135565578597387, 0.8336317549854986, 1.0851855989763142, 1.2811795922729798, 1.5314400300371638, 1.955870979003108, 2.0], :y => [-0.03368922516748496, -0.0358033654987773, -0.04963239262102696, -0.0591713094687051, -0.07035446577599336, -0.08344302229760195, -0.09744303591268044, -0.11480486230223896, -0.13797488844251543, -0.15778751621486184  …  0.25355323454372397, 0.30750856508115365, 0.4434127518200184, 0.5837754645526543, 0.8170940153098466, 1.0793731990499382, 1.279271375676313, 1.531145580912822, 1.9558681516409833, 1.9999984724084583], :z => nothing, :type => \"scatter\", :mode => :lines, :showlegend => false, :opacity => nothing), Config(:x => [-5.0, -4.923770317996679, -4.509188369978471, -4.281575985365679, -4.053751301301427, -3.824987878354284, -3.6127002141177824, -3.38285835782374, -3.116853974956621, -2.9156062595963514  …  -0.114292506513758, 0.12565651018862192, 0.346187944521616, 0.6135565578597387, 0.8336317549854986, 1.0851855989763142, 1.2811795922729798, 1.5314400300371638, 1.955870979003108, 2.0], :y => [0, 0, 0, 0, 0, 0, 0, 0, 0, 0  …  0, 0, 0, 0, 0, 0, 0, 0, 0, 0], :z => nothing, :type => \"scatter\", :mode => :lines, :showlegend => false, :opacity => nothing), Config(:x => [0.0], :y => [0.0], :z => nothing, :type => \"scatter\", :mode => :markers, :showlegend => false, :opacity => nothing, :marker => Config(:size => 10, :color => :black)), Config(:x => [-1.0788600584646237], :y => [-0.35328577784821125], :z => nothing, :type => \"scatter\", :mode => :markers, :showlegend => false, :opacity => nothing, :marker => Config(:size => 10, :color => :blue)), Config(:x => [-2.06597189615675, 0.6965639603951723], :y => [-0.26035694402340986, 0.6718415293703132], :z => nothing, :type => \"scatter\", :mode => :markers, :showlegend => false, :opacity => nothing, :marker => Config(:size => 10, :color => :red))], Config(:showlegend => false, :border => nothing), Config(:responsive => true))"
      ]
     },
     "execution_count": 24,
     "metadata": {},
     "output_type": "execute_result"
    }
   ],
   "source": [
    "ex = x * tanh(exp(x))\n",
    "a, b = -5, 2\n",
    "plot(ex ~ 0, a, b, legend=false)\n",
    "\n",
    "zs  = solve(ex ~ 0, a, b)\n",
    "cps = solve(ex' ~ 0, a, b)\n",
    "ips = solve(ex'' ~ 0, a, b)\n",
    "\n",
    "scatter!(zs,  ex.(zs),  marker=(10, \"black\"))\n",
    "scatter!(cps, ex.(cps), marker=(10, \"blue\"))\n",
    "scatter!(ips, ex.(ips), marker=(10, \"red\"))"
   ]
  },
  {
   "cell_type": "markdown",
   "id": "40712805-1ba5-4719-a260-0baf9fde8bc5",
   "metadata": {},
   "source": [
    "The black dot is consistent with"
   ]
  },
  {
   "cell_type": "code",
   "execution_count": 25,
   "id": "7528df99",
   "metadata": {},
   "outputs": [
    {
     "data": {
      "text/plain": [
       "1-element Vector{@NamedTuple{zero_oo_NaN::Float64, sign_change::CalculusWithJulia.MP}}:\n",
       " (zero_oo_NaN = 0.0, sign_change = \u001b[0m\u001b[1m-\u001b[22m to \u001b[0m\u001b[1m+\u001b[22m)"
      ]
     },
     "execution_count": 25,
     "metadata": {},
     "output_type": "execute_result"
    }
   ],
   "source": [
    "sign_chart(ex, a, b)"
   ]
  },
  {
   "cell_type": "markdown",
   "id": "0dd1afdd-c424-462f-a42b-cad89d47176f",
   "metadata": {},
   "source": [
    "The blue dot with"
   ]
  },
  {
   "cell_type": "code",
   "execution_count": 26,
   "id": "b98d2131",
   "metadata": {},
   "outputs": [
    {
     "data": {
      "text/plain": [
       "1-element Vector{@NamedTuple{zero_oo_NaN::Float64, sign_change::CalculusWithJulia.MP}}:\n",
       " (zero_oo_NaN = -1.07886005846, sign_change = \u001b[0m\u001b[1m-\u001b[22m to \u001b[0m\u001b[1m+\u001b[22m)"
      ]
     },
     "execution_count": 26,
     "metadata": {},
     "output_type": "execute_result"
    }
   ],
   "source": [
    "sign_chart(ex', a, b)"
   ]
  },
  {
   "cell_type": "markdown",
   "id": "ae853043-1f4e-443a-bfe5-fbc8cb7e3932",
   "metadata": {},
   "source": [
    "And the red dots with"
   ]
  },
  {
   "cell_type": "code",
   "execution_count": 27,
   "id": "e29277f6",
   "metadata": {},
   "outputs": [
    {
     "data": {
      "text/plain": [
       "2-element Vector{NamedTuple{(:zero_oo_NaN, :sign_change)}}:\n",
       " (zero_oo_NaN = -2.06597189616, sign_change = \u001b[0m\u001b[1m-\u001b[22m to \u001b[0m\u001b[1m+\u001b[22m)\n",
       " (zero_oo_NaN = 0.696563960395, sign_change = \u001b[0m\u001b[1m+\u001b[22m to \u001b[0m\u001b[1m-\u001b[22m)"
      ]
     },
     "execution_count": 27,
     "metadata": {},
     "output_type": "execute_result"
    }
   ],
   "source": [
    "sign_chart(ex'', a, b)"
   ]
  },
  {
   "cell_type": "markdown",
   "id": "000bb827-0311-4d55-92a1-c2f7864c31a6",
   "metadata": {},
   "source": [
    "## Optimization\n",
    "\n",
    "Optimization where a constraint and objective are naturally used can be\n",
    "handled using symbolic expressions in a manner similar to how they would\n",
    "be addressed “by hand.” Consider this example\n",
    "\n",
    "> We have the dimensions of a box satisfy `l + w + h = A` with `w` and\n",
    "> `h` being equal. What such box has maximal volume when `A = 72`?\n",
    "\n",
    "We can use multiple symbolic values here"
   ]
  },
  {
   "cell_type": "code",
   "execution_count": 28,
   "id": "13bb272d",
   "metadata": {},
   "outputs": [
    {
     "data": {
      "text/plain": [
       "l * w * w"
      ]
     },
     "execution_count": 28,
     "metadata": {},
     "output_type": "execute_result"
    }
   ],
   "source": [
    "@symbolic l\n",
    "@symbolic w\n",
    "@symbolic A\n",
    "h = w\n",
    "eq = A ~ l + w + h\n",
    "V = l * w * h"
   ]
  },
  {
   "cell_type": "markdown",
   "id": "37d2a8cb-20fa-49ee-a3c2-bbf61e218784",
   "metadata": {},
   "source": [
    "The familiar steps are: solve the constraint (`eq`) for one of the\n",
    "variables; use this to make the objective (`V`) a function of a single\n",
    "variable; use calculus to maximize this function, in this case over\n",
    "$[0, A]$.\n",
    "\n",
    "Using `solve` finds a solution for `w`, as the constraint is linear:"
   ]
  },
  {
   "cell_type": "code",
   "execution_count": 29,
   "id": "401daa40",
   "metadata": {},
   "outputs": [
    {
     "data": {
      "text/plain": [
       "w ~ (l + (-1 * A)) / -2"
      ]
     },
     "execution_count": 29,
     "metadata": {},
     "output_type": "execute_result"
    }
   ],
   "source": [
    "a = solve(eq, w)"
   ]
  },
  {
   "cell_type": "markdown",
   "id": "fbd6ee56-d96a-4353-afe0-ec672e52e7d9",
   "metadata": {},
   "source": [
    "We can substitute this into `V` directly:"
   ]
  },
  {
   "cell_type": "code",
   "execution_count": 30,
   "id": "7e8df431",
   "metadata": {},
   "outputs": [
    {
     "data": {
      "text/plain": [
       "l * ((l + (-1 * A)) / -2) * ((l + (-1 * A)) / -2)"
      ]
     },
     "execution_count": 30,
     "metadata": {},
     "output_type": "execute_result"
    }
   ],
   "source": [
    "V = V(a)"
   ]
  },
  {
   "cell_type": "markdown",
   "id": "11e83fb0-1e64-45ca-840e-8878f827ea0a",
   "metadata": {},
   "source": [
    "As `A = 72` we can substitute this in with pair notation resulting in an\n",
    "expression of a single variable:"
   ]
  },
  {
   "cell_type": "code",
   "execution_count": 31,
   "id": "fdb67f12",
   "metadata": {},
   "outputs": [
    {
     "data": {
      "text/plain": [
       "l * ((l + (-1 * 72)) / -2) * ((l + (-1 * 72)) / -2)"
      ]
     },
     "execution_count": 31,
     "metadata": {},
     "output_type": "execute_result"
    }
   ],
   "source": [
    "A₀ = 72\n",
    "V = V(A => A₀)"
   ]
  },
  {
   "cell_type": "markdown",
   "id": "096d6c6a-dccb-4f81-bd6d-8587a26c8488",
   "metadata": {},
   "source": [
    "(When multiple variables are in the equation, a call by positional\n",
    "arguments won’t work as expected.)\n",
    "\n",
    "Unlike what would have happened if `SymPy` were used, the equation isn’t\n",
    "simplified and is hard to identify as a cubic. Nonetheless, it can be\n",
    "plotted and manipulated quite easily:"
   ]
  },
  {
   "cell_type": "code",
   "execution_count": 32,
   "id": "075b145f",
   "metadata": {},
   "outputs": [
    {
     "data": {
      "text/html": [
       "<iframe srcdoc=\"&lt;html&gt;&lt;head&gt;&lt;meta charset=&quot;utf-8&quot;&gt;&lt;meta name=&quot;viewport&quot; content=&quot;width=device-width, initial-scale=1&quot;&gt;&lt;meta name=&quot;description&quot; content=&quot;PlotlyLight.jl&quot;&gt;&lt;title&gt;PlotlyLight.jl&lt;/title&gt;&lt;style&gt;html, body { padding: 0px; margin: 0px; } /* remove scrollbar in iframe */&lt;/style&gt;&lt;/head&gt;&lt;body&gt;&lt;div class=&quot;plotlylight-parent-div&quot;&gt;&lt;script src=&quot;https://cdn.plot.ly/plotly-2.35.2.min.js&quot; charset=&quot;utf-8&quot;&gt;&lt;/script&gt;&lt;div style=&quot;height=120%;width:60%&quot; id=&quot;05moh454X9&quot; class=&quot;plotlylight-plot-div&quot;&gt;&lt;/div&gt;&lt;script&gt;Plotly.newPlot(&quot;05moh454X9&quot;, [{&quot;x&quot;:[0.0,0.19601918229425333,0.39203836458850666,0.58805754688276,0.7840767291770133,1.3171106623432804,1.8501445955095477,2.383178528675815,2.916212461842082,3.449246395008349,3.9822803281746166,4.515314261340883,5.048348194507151,5.633637183511473,6.218926172515795,6.804215161520117,7.3895041505244405,7.975339052403948,8.561173954283454,9.147008856162962,9.732843758042469,10.32109255990655,10.909341361770633,11.497590163634714,12.085838965498795,12.63172153067837,13.177604095857944,13.72348666103752,14.269369226217096,14.860391142401777,15.451413058586457,16.042434974771137,16.633456890955816,17.317468161185552,18.001479431415284,18.68549070164502,19.369501971874755,19.88699609708688,20.404490222299,20.92198434751112,21.439478472723245,22.064898511086017,22.69031854944879,23.315738587811566,23.94115862617434,24.593048485264788,25.244938344355237,25.896828203445686,26.548718062536135,27.069754742303346,27.59079142207056,28.111828101837773,28.632864781604983,29.271139065402856,29.909413349200726,30.5476876329986,31.185961916796472,31.83369789404798,32.48143387129949,33.129169848550994,33.7769058258025,34.92942583881178,36.08194585182106,37.13780537975737,38.19366490769368,39.61863013066912,41.04359535364456,42.121785943486735,43.19997653332891,45.44973286772756,48.09183757438186,50.252991361572775,52.72103839051154,53.85520005279551,54.98936171507948,56.364400297961254,57.739438880843025,58.87125418034694,60.00306947985084,61.29677496323218,62.59048044661352,63.598449554996364,64.60641866337922,65.24994550334426,65.8934723433093,66.53699918327435,67.1805260232394,67.72622295762417,68.27191989200897,68.81761682639376,69.36331376077854,70.45470762954811,71.54610149831768,71.65957612373826,71.77305074915884,71.88652537457942,72.0],&quot;y&quot;:[0.0,252.65949647630362,502.56379714544727,749.7241996278367,994.1520015438786,1645.0945449823,2276.141412343428,2887.519776165702,3479.4568089875584,4052.1796833474373,4605.9155717837775,5140.891646835016,5657.335081039591,6203.330453078373,6727.556089847698,7230.312739051636,7711.901148394256,8173.042143626676,8613.578291373993,9033.81118166892,9434.042404544178,9816.101170381797,10178.602511696477,10521.851761957918,10846.154254635818,11130.417705681863,11398.872184819673,11651.761691545742,11889.33022535655,12129.552418603109,12352.410770524823,12558.21495317654,12747.274638613133,12945.583655355727,13122.359452588584,13278.082074295893,13413.231564461847,13502.10286286038,13579.681160437933,13646.17433471629,13701.790263217215,13754.785326240159,13792.56360811282,13815.49205861771,13823.937627537343,13817.721427646895,13796.58468694653,13760.942946487803,13711.211747322272,13661.610782039457,13603.486626718981,13537.051457309268,13462.517449758743,13360.486200398074,13247.009910956287,13122.47862516248,12987.28238674576,12839.579478914162,12681.702424532763,12514.058871603864,12337.056468129773,12000.244112881091,11637.389245475411,11284.067898237763,10912.582148133493,10385.559505067353,9833.008979272814,9400.610401292412,8957.961732095853,8009.568754484511,6872.326361509778,5941.566760983387,4898.817281375697,4432.737571222998,3977.955375972649,3444.8791080039746,2935.52508775498,2536.8207252106167,2159.005573330916,1755.5247120585173,1385.4255481571618,1122.290833143968,882.928195577405,743.2496617228588,614.2866248039486,496.43883738106376,390.1060520146027,309.2577474654522,237.22070713814568,174.23868169312593,120.55542179083454,42.060201256192556,3.685050817743049,2.0761286836161514,0.9241850143341501,0.231411542320836,0.0],&quot;z&quot;:null,&quot;type&quot;:&quot;scatter&quot;,&quot;mode&quot;:&quot;lines&quot;,&quot;showlegend&quot;:false,&quot;opacity&quot;:null}], {&quot;border&quot;:null}, {&quot;responsive&quot;:true})&lt;/script&gt;&lt;/div&gt;&lt;/body&gt;&lt;/html&gt;\" style=\"min-width:350px;height:100%;display:block;border:none;min-height:350px;width:100%\"></iframe>"
      ],
      "text/plain": [
       "Plot(Config[Config(:x => [0.0, 0.19601918229425333, 0.39203836458850666, 0.58805754688276, 0.7840767291770133, 1.3171106623432804, 1.8501445955095477, 2.383178528675815, 2.916212461842082, 3.449246395008349  …  67.72622295762417, 68.27191989200897, 68.81761682639376, 69.36331376077854, 70.45470762954811, 71.54610149831768, 71.65957612373826, 71.77305074915884, 71.88652537457942, 72.0], :y => [0.0, 252.65949647630362, 502.56379714544727, 749.7241996278367, 994.1520015438786, 1645.0945449823, 2276.141412343428, 2887.519776165702, 3479.4568089875584, 4052.1796833474373  …  309.2577474654522, 237.22070713814568, 174.23868169312593, 120.55542179083454, 42.060201256192556, 3.685050817743049, 2.0761286836161514, 0.9241850143341501, 0.231411542320836, 0.0], :z => nothing, :type => \"scatter\", :mode => :lines, :showlegend => false, :opacity => nothing)], Config(:border => nothing), Config(:responsive => true))"
      ]
     },
     "execution_count": 32,
     "metadata": {},
     "output_type": "execute_result"
    }
   ],
   "source": [
    "plot(V, 0, A₀)"
   ]
  },
  {
   "cell_type": "markdown",
   "id": "3f0b4860-e584-4395-a4f1-884ba0ab64f6",
   "metadata": {},
   "source": [
    "A peak near $20$ is identified:"
   ]
  },
  {
   "cell_type": "code",
   "execution_count": 33,
   "id": "3ed16caa",
   "metadata": {},
   "outputs": [
    {
     "data": {
      "text/plain": [
       "24.0"
      ]
     },
     "execution_count": 33,
     "metadata": {},
     "output_type": "execute_result"
    }
   ],
   "source": [
    "l₀ = solve(V' ~ 0, 20)"
   ]
  },
  {
   "cell_type": "markdown",
   "id": "3bd1b969-c806-4249-acc2-b7a012e2bc4c",
   "metadata": {},
   "source": [
    "And we see indeed `24` is the length needed for maximal volume. We can\n",
    "find the width using the stored equation `a`:"
   ]
  },
  {
   "cell_type": "code",
   "execution_count": 34,
   "id": "c2abb339",
   "metadata": {},
   "outputs": [
    {
     "data": {
      "text/plain": [
       "w ~ (24.0 + (-1 * 72)) / -2"
      ]
     },
     "execution_count": 34,
     "metadata": {},
     "output_type": "execute_result"
    }
   ],
   "source": [
    "a(l => l₀, A => A₀)"
   ]
  },
  {
   "cell_type": "markdown",
   "id": "f75d8373-8e0b-4064-adaf-f3f83928d02c",
   "metadata": {},
   "source": [
    "Identifying the numeric value is achieved by isolating the right hand\n",
    "side and evaluating:"
   ]
  },
  {
   "cell_type": "code",
   "execution_count": 35,
   "id": "f9682149",
   "metadata": {},
   "outputs": [
    {
     "data": {
      "text/plain": [
       "24.0"
      ]
     },
     "execution_count": 35,
     "metadata": {},
     "output_type": "execute_result"
    }
   ],
   "source": [
    "_, r = a(l => l₀, A => A₀)\n",
    "r()"
   ]
  },
  {
   "cell_type": "markdown",
   "id": "536346aa-4c37-47b0-8a34-707cada9f217",
   "metadata": {},
   "source": [
    "So, as $h = w = l$, this problem maximizes with a cube\n",
    "\n",
    "## Integration\n",
    "\n",
    "Integration has no new surprises, we can just use a symbolic expression\n",
    "in place of a function."
   ]
  },
  {
   "cell_type": "code",
   "execution_count": 36,
   "id": "8f49f412",
   "metadata": {},
   "outputs": [
    {
     "data": {
      "text/plain": [
       "(1.0457527220443028, 1.1866307658703334e-8)"
      ]
     },
     "execution_count": 36,
     "metadata": {},
     "output_type": "execute_result"
    }
   ],
   "source": [
    "ex = x * tanh(exp(x))\n",
    "quadgk(ex, -5, 2)"
   ]
  },
  {
   "cell_type": "markdown",
   "id": "62f5eb73-01a5-44a4-b21c-039a4af5dacc",
   "metadata": {},
   "source": [
    "The arc-length of the curve would be:"
   ]
  },
  {
   "cell_type": "code",
   "execution_count": 37,
   "id": "849d1e82",
   "metadata": {},
   "outputs": [
    {
     "data": {
      "text/plain": [
       "(7.9250717364739005, 1.0456147148119044e-7)"
      ]
     },
     "execution_count": 37,
     "metadata": {},
     "output_type": "execute_result"
    }
   ],
   "source": [
    "quadgk(sqrt(1 + (ex')^2), -5, 2)"
   ]
  }
 ],
 "metadata": {
  "kernelspec": {
   "display_name": "Julia 1.11.2",
   "language": "julia",
   "name": "julia-1.11"
  },
  "language_info": {
   "file_extension": ".jl",
   "mimetype": "application/julia",
   "name": "julia",
   "version": "1.11.2"
  }
 },
 "nbformat": 4,
 "nbformat_minor": 5
}
