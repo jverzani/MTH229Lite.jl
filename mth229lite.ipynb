{
 "cells": [
  {
   "cell_type": "markdown",
   "id": "f61a5d07-cbcb-44ff-bd66-e53307ffa2af",
   "metadata": {},
   "source": [
    "# Notebook for MTH229\n",
    "This notebook allows most questions from MTH229 to be computed. However, the symbolic math is limited to derivatives (not limits or integrals). The `SymEngine` package is available which creates symbolic variables with `@vars`. The `Plots` package is also bypassed for a lighter-weight alternative that is loaded with the `MTH229Lite` package when the following cell is executed."
   ]
  },
  {
   "cell_type": "code",
   "execution_count": 2,
   "id": "af53812b-a6d9-464b-b972-8a570ce3c04a",
   "metadata": {},
   "outputs": [],
   "source": [
    "using MTH229Lite"
   ]
  },
  {
   "cell_type": "code",
   "execution_count": null,
   "id": "4921c5bd-ea3b-4fbd-9d5b-1345da8165eb",
   "metadata": {},
   "outputs": [],
   "source": [
    "\n"
   ]
  },
  {
   "cell_type": "code",
   "execution_count": null,
   "id": "bf821a80-4036-4823-a61d-570e1a2e2efa",
   "metadata": {},
   "outputs": [],
   "source": []
  }
 ],
 "metadata": {
  "kernelspec": {
   "display_name": "Julia 1.11.3",
   "language": "julia",
   "name": "julia-1.11"
  },
  "language_info": {
   "file_extension": ".jl",
   "mimetype": "application/julia",
   "name": "julia",
   "version": "1.11.3"
  }
 },
 "nbformat": 4,
 "nbformat_minor": 5
}
